{
 "cells": [
  {
   "cell_type": "code",
   "execution_count": 9,
   "metadata": {},
   "outputs": [],
   "source": [
    "import os\n",
    "import csv\n",
    "import shutil"
   ]
  },
  {
   "cell_type": "code",
   "execution_count": 10,
   "metadata": {},
   "outputs": [],
   "source": [
    "# Define the paths\n",
    "csv_file = 'dataset/HAM10000_metadata.csv'\n",
    "image_folder = 'dataset/HAM10000_new_folder/'\n",
    "output_folder = 'dataset/HAM10000_categorised/'"
   ]
  },
  {
   "cell_type": "code",
   "execution_count": 11,
   "metadata": {},
   "outputs": [],
   "source": [
    "# Create the output folder if it doesn't exist\n",
    "os.makedirs(output_folder, exist_ok=True)"
   ]
  },
  {
   "cell_type": "code",
   "execution_count": 12,
   "metadata": {},
   "outputs": [
    {
     "name": "stdout",
     "output_type": "stream",
     "text": [
      "Images have been sorted into different folders based on categories.\n"
     ]
    }
   ],
   "source": [
    "# Read the CSV file\n",
    "with open(csv_file, 'r') as file:\n",
    "    reader = csv.DictReader(file)\n",
    "    for row in reader:\n",
    "        image_id = row['image_id']\n",
    "        category = row['dx']\n",
    "        \n",
    "        # Define source and destination paths\n",
    "        source_path = os.path.join(image_folder, f'{image_id}.jpg')  # Assuming images are in JPG format\n",
    "        destination_folder = os.path.join(output_folder, category)\n",
    "        destination_path = os.path.join(destination_folder, f'{image_id}.jpg')\n",
    "        \n",
    "        # Create the category folder if it doesn't exist\n",
    "        os.makedirs(destination_folder, exist_ok=True)\n",
    "        \n",
    "        # Copy the image\n",
    "        shutil.copy(source_path, destination_path)\n",
    "\n",
    "print(\"Images have been sorted into different folders based on categories.\")"
   ]
  }
 ],
 "metadata": {
  "kernelspec": {
   "display_name": "Python 3",
   "language": "python",
   "name": "python3"
  },
  "language_info": {
   "codemirror_mode": {
    "name": "ipython",
    "version": 3
   },
   "file_extension": ".py",
   "mimetype": "text/x-python",
   "name": "python",
   "nbconvert_exporter": "python",
   "pygments_lexer": "ipython3",
   "version": "3.11.4"
  },
  "orig_nbformat": 4
 },
 "nbformat": 4,
 "nbformat_minor": 2
}
