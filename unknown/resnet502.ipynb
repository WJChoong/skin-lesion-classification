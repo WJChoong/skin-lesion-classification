{
 "cells": [
  {
   "cell_type": "code",
   "execution_count": 1,
   "metadata": {},
   "outputs": [],
   "source": [
    "import pandas as pd\n",
    "import os\n",
    "import tensorflow as tf\n",
    "from tensorflow.keras.applications import ResNet50\n",
    "from tensorflow.keras.preprocessing.image import ImageDataGenerator"
   ]
  },
  {
   "cell_type": "code",
   "execution_count": 2,
   "metadata": {},
   "outputs": [],
   "source": [
    "# Load the CSV file into a Pandas DataFrame.\n",
    "df = pd.read_csv('dataset/HAM10000_metadata.csv')\n",
    "\n",
    "# Extract the image paths and labels from the DataFrame.\n",
    "image_paths = df['image_id'].tolist()\n",
    "labels = df['dx'].tolist()"
   ]
  },
  {
   "cell_type": "code",
   "execution_count": 3,
   "metadata": {},
   "outputs": [],
   "source": [
    "# Create a list of image file paths.\n",
    "image_file_paths = []\n",
    "for image_path in image_paths:\n",
    "    image_file_path = os.path.join('images', image_path + '.jpg')\n",
    "    image_file_paths.append(image_file_path)\n"
   ]
  },
  {
   "cell_type": "code",
   "execution_count": 4,
   "metadata": {},
   "outputs": [],
   "source": [
    "# Create a TensorFlow dataset.\n",
    "dataset = tf.data.Dataset.from_tensor_slices((image_file_paths, labels))\n",
    "\n",
    "# Load the images from the file paths.\n",
    "dataset = dataset.map(lambda image_file_path, label: (tf.image.decode_jpeg(tf.io.read_file(image_file_path)), label))\n",
    "\n",
    "# Resize the images to 224x224 pixels.\n",
    "dataset = dataset.map(lambda image, label: (tf.image.resize(image, (224, 224)), label))\n",
    "\n",
    "# Normalize the pixel values to the range [0, 1].\n",
    "dataset = dataset.map(lambda image, label: (image / 255.0, label))\n",
    "\n",
    "# Split the dataset into training and test sets.\n",
    "train_dataset = dataset.take(int(0.8 * len(dataset)))\n",
    "test_dataset = dataset.skip(int(0.8 * len(dataset)))\n",
    "\n",
    "# Create TensorFlow batches from the training and test sets.\n",
    "train_batch_size = 32\n",
    "test_batch_size = 32\n",
    "\n",
    "train_dataset = train_dataset.batch(train_batch_size)\n",
    "test_dataset = test_dataset.batch(test_batch_size)"
   ]
  },
  {
   "cell_type": "code",
   "execution_count": 5,
   "metadata": {},
   "outputs": [],
   "source": [
    "# Load the ResNet50 model with pre-trained weights.\n",
    "model = ResNet50(weights='imagenet')\n",
    "\n",
    "# Freeze the pre-trained weights so that they are not updated during training.\n",
    "for layer in model.layers[:175]:\n",
    "    layer.trainable = False"
   ]
  },
  {
   "cell_type": "code",
   "execution_count": 6,
   "metadata": {},
   "outputs": [
    {
     "ename": "AttributeError",
     "evalue": "'Functional' object has no attribute 'add'",
     "output_type": "error",
     "traceback": [
      "\u001b[1;31m---------------------------------------------------------------------------\u001b[0m",
      "\u001b[1;31mAttributeError\u001b[0m                            Traceback (most recent call last)",
      "\u001b[1;32md:\\GitHub\\FYP trial\\skin lesion classification\\resnet502.ipynb Cell 6\u001b[0m line \u001b[0;36m2\n\u001b[0;32m      <a href='vscode-notebook-cell:/d%3A/GitHub/FYP%20trial/skin%20lesion%20classification/resnet502.ipynb#W5sZmlsZQ%3D%3D?line=0'>1</a>\u001b[0m \u001b[39m# Add a new fully connected layer with 7 outputs, corresponding to the 7 classes in the HAM10000 dataset.\u001b[39;00m\n\u001b[1;32m----> <a href='vscode-notebook-cell:/d%3A/GitHub/FYP%20trial/skin%20lesion%20classification/resnet502.ipynb#W5sZmlsZQ%3D%3D?line=1'>2</a>\u001b[0m model\u001b[39m.\u001b[39;49madd(tf\u001b[39m.\u001b[39mkeras\u001b[39m.\u001b[39mlayers\u001b[39m.\u001b[39mDense(\u001b[39m7\u001b[39m, activation\u001b[39m=\u001b[39m\u001b[39m'\u001b[39m\u001b[39msoftmax\u001b[39m\u001b[39m'\u001b[39m))\n",
      "\u001b[1;31mAttributeError\u001b[0m: 'Functional' object has no attribute 'add'"
     ]
    },
    {
     "ename": "",
     "evalue": "",
     "output_type": "error",
     "traceback": [
      "\u001b[1;31mThe Kernel crashed while executing code in the the current cell or a previous cell. Please review the code in the cell(s) to identify a possible cause of the failure. Click <a href='https://aka.ms/vscodeJupyterKernelCrash'>here</a> for more info. View Jupyter <a href='command:jupyter.viewOutput'>log</a> for further details."
     ]
    }
   ],
   "source": [
    "# Add a new fully connected layer with 7 outputs, corresponding to the 7 classes in the HAM10000 dataset.\n",
    "model.add(tf.keras.layers.Dense(7, activation='softmax'))"
   ]
  },
  {
   "cell_type": "code",
   "execution_count": null,
   "metadata": {},
   "outputs": [],
   "source": []
  }
 ],
 "metadata": {
  "kernelspec": {
   "display_name": "Python 3",
   "language": "python",
   "name": "python3"
  },
  "language_info": {
   "codemirror_mode": {
    "name": "ipython",
    "version": 3
   },
   "file_extension": ".py",
   "mimetype": "text/x-python",
   "name": "python",
   "nbconvert_exporter": "python",
   "pygments_lexer": "ipython3",
   "version": "3.11.4"
  },
  "orig_nbformat": 4
 },
 "nbformat": 4,
 "nbformat_minor": 2
}
