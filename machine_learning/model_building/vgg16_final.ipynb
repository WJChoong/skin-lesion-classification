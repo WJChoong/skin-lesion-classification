{
  "cells": [
    {
      "cell_type": "code",
      "execution_count": 1,
      "metadata": {
        "colab": {
          "base_uri": "https://localhost:8080/"
        },
        "id": "ARMYkKXBYh1C",
        "outputId": "dfb1f435-8f97-4ec8-def5-bc6f17f8d2ef"
      },
      "outputs": [
        {
          "output_type": "stream",
          "name": "stdout",
          "text": [
            "Mounted at /content/drive\n"
          ]
        }
      ],
      "source": [
        "import os\n",
        "from google.colab import drive\n",
        "drive.mount('/content/drive')"
      ]
    },
    {
      "cell_type": "code",
      "execution_count": 2,
      "metadata": {
        "id": "ES6eio7XvJL_"
      },
      "outputs": [],
      "source": [
        "root_path = '/content/drive/MyDrive/dataset/'"
      ]
    },
    {
      "cell_type": "code",
      "execution_count": 3,
      "metadata": {
        "id": "PEkkxo_IwQoR"
      },
      "outputs": [],
      "source": [
        "import os\n",
        "import numpy as np\n",
        "import pandas as pd\n",
        "\n",
        "IMAGE_DIR = root_path + 'new_2019_images'\n",
        "panda_path = root_path + 'new_2019.csv'\n",
        "TEST_IMAGE_DIR = root_path + 'ISIC2018_Task3_Test_Input'\n",
        "test_panda_path = root_path + 'val_class.csv'"
      ]
    },
    {
      "cell_type": "code",
      "execution_count": 4,
      "metadata": {
        "colab": {
          "base_uri": "https://localhost:8080/"
        },
        "id": "xe7enu9jYh1I",
        "outputId": "b350b4ea-ef35-4815-c8b7-c407a24644e2"
      },
      "outputs": [
        {
          "output_type": "stream",
          "name": "stdout",
          "text": [
            "11987\n"
          ]
        }
      ],
      "source": [
        "print(len(os.listdir(IMAGE_DIR)))"
      ]
    },
    {
      "cell_type": "code",
      "execution_count": 5,
      "metadata": {
        "colab": {
          "base_uri": "https://localhost:8080/"
        },
        "id": "0FYcYtcWYh1J",
        "outputId": "d3d70493-4b36-4976-dc8b-9ae53d8e6ffb"
      },
      "outputs": [
        {
          "output_type": "stream",
          "name": "stdout",
          "text": [
            "1514\n"
          ]
        }
      ],
      "source": [
        "print(len(os.listdir(TEST_IMAGE_DIR)))"
      ]
    },
    {
      "cell_type": "code",
      "execution_count": 6,
      "metadata": {
        "colab": {
          "base_uri": "https://localhost:8080/"
        },
        "id": "VMsLnm1aw4Wt",
        "outputId": "fff05a86-d4a5-4058-d44f-c656db00f477"
      },
      "outputs": [
        {
          "output_type": "stream",
          "name": "stdout",
          "text": [
            "This is the image dir: /content/drive/MyDrive/dataset/new_2019_images\n",
            "This is the csv filepath: /content/drive/MyDrive/dataset/new_2019.csv\n"
          ]
        }
      ],
      "source": [
        "print(f'This is the image dir: {IMAGE_DIR}')\n",
        "print(f'This is the csv filepath: {panda_path}')"
      ]
    },
    {
      "cell_type": "code",
      "execution_count": 7,
      "metadata": {
        "id": "DRCizLOExFHg"
      },
      "outputs": [],
      "source": [
        "import tensorflow as tf\n",
        "from tensorflow import keras\n",
        "from tensorflow.keras.applications.vgg16 import preprocess_input, VGG16\n",
        "from tensorflow.keras.preprocessing.image import ImageDataGenerator, load_img, img_to_array\n",
        "from tensorflow.keras.layers import Input, Flatten, Dense, Dropout, GlobalAveragePooling2D, BatchNormalization, Activation\n",
        "from tensorflow.keras.optimizers import Adam\n",
        "from tensorflow.keras.models import Sequential"
      ]
    },
    {
      "cell_type": "code",
      "execution_count": 8,
      "metadata": {
        "id": "vT49vq013iDQ"
      },
      "outputs": [],
      "source": [
        "def preprocess(df):\n",
        "  for index, img in enumerate(df.image):\n",
        "    img = img+'.jpg'\n",
        "    df.image[index]=img"
      ]
    },
    {
      "cell_type": "code",
      "execution_count": 9,
      "metadata": {
        "colab": {
          "base_uri": "https://localhost:8080/",
          "height": 397
        },
        "id": "Q46aDawUmaBr",
        "outputId": "a07c31a2-c2b5-452e-dde5-e0facdd78308"
      },
      "outputs": [
        {
          "output_type": "stream",
          "name": "stderr",
          "text": [
            "<ipython-input-8-2404a6fa2a19>:4: SettingWithCopyWarning: \n",
            "A value is trying to be set on a copy of a slice from a DataFrame\n",
            "\n",
            "See the caveats in the documentation: https://pandas.pydata.org/pandas-docs/stable/user_guide/indexing.html#returning-a-view-versus-a-copy\n",
            "  df.image[index]=img\n",
            "<ipython-input-8-2404a6fa2a19>:4: SettingWithCopyWarning: \n",
            "A value is trying to be set on a copy of a slice from a DataFrame\n",
            "\n",
            "See the caveats in the documentation: https://pandas.pydata.org/pandas-docs/stable/user_guide/indexing.html#returning-a-view-versus-a-copy\n",
            "  df.image[index]=img\n"
          ]
        },
        {
          "output_type": "stream",
          "name": "stdout",
          "text": [
            "['MEL', 'NV', 'BCC', 'BKL', 'UNK']\n"
          ]
        },
        {
          "output_type": "execute_result",
          "data": {
            "text/plain": [
              "              image  MEL   NV  BCC  BKL  UNK\n",
              "0  ISIC_0068849.jpg  0.0  1.0  0.0  0.0  0.0\n",
              "1  ISIC_0068458.jpg  0.0  1.0  0.0  0.0  0.0\n",
              "2  ISIC_0000011.jpg  0.0  1.0  0.0  0.0  0.0\n",
              "3  ISIC_0010585.jpg  0.0  1.0  0.0  0.0  0.0\n",
              "4  ISIC_0025080.jpg  0.0  1.0  0.0  0.0  0.0"
            ],
            "text/html": [
              "\n",
              "  <div id=\"df-fc7f8d8c-4a9b-4aa4-8537-613ffa13f546\" class=\"colab-df-container\">\n",
              "    <div>\n",
              "<style scoped>\n",
              "    .dataframe tbody tr th:only-of-type {\n",
              "        vertical-align: middle;\n",
              "    }\n",
              "\n",
              "    .dataframe tbody tr th {\n",
              "        vertical-align: top;\n",
              "    }\n",
              "\n",
              "    .dataframe thead th {\n",
              "        text-align: right;\n",
              "    }\n",
              "</style>\n",
              "<table border=\"1\" class=\"dataframe\">\n",
              "  <thead>\n",
              "    <tr style=\"text-align: right;\">\n",
              "      <th></th>\n",
              "      <th>image</th>\n",
              "      <th>MEL</th>\n",
              "      <th>NV</th>\n",
              "      <th>BCC</th>\n",
              "      <th>BKL</th>\n",
              "      <th>UNK</th>\n",
              "    </tr>\n",
              "  </thead>\n",
              "  <tbody>\n",
              "    <tr>\n",
              "      <th>0</th>\n",
              "      <td>ISIC_0068849.jpg</td>\n",
              "      <td>0.0</td>\n",
              "      <td>1.0</td>\n",
              "      <td>0.0</td>\n",
              "      <td>0.0</td>\n",
              "      <td>0.0</td>\n",
              "    </tr>\n",
              "    <tr>\n",
              "      <th>1</th>\n",
              "      <td>ISIC_0068458.jpg</td>\n",
              "      <td>0.0</td>\n",
              "      <td>1.0</td>\n",
              "      <td>0.0</td>\n",
              "      <td>0.0</td>\n",
              "      <td>0.0</td>\n",
              "    </tr>\n",
              "    <tr>\n",
              "      <th>2</th>\n",
              "      <td>ISIC_0000011.jpg</td>\n",
              "      <td>0.0</td>\n",
              "      <td>1.0</td>\n",
              "      <td>0.0</td>\n",
              "      <td>0.0</td>\n",
              "      <td>0.0</td>\n",
              "    </tr>\n",
              "    <tr>\n",
              "      <th>3</th>\n",
              "      <td>ISIC_0010585.jpg</td>\n",
              "      <td>0.0</td>\n",
              "      <td>1.0</td>\n",
              "      <td>0.0</td>\n",
              "      <td>0.0</td>\n",
              "      <td>0.0</td>\n",
              "    </tr>\n",
              "    <tr>\n",
              "      <th>4</th>\n",
              "      <td>ISIC_0025080.jpg</td>\n",
              "      <td>0.0</td>\n",
              "      <td>1.0</td>\n",
              "      <td>0.0</td>\n",
              "      <td>0.0</td>\n",
              "      <td>0.0</td>\n",
              "    </tr>\n",
              "  </tbody>\n",
              "</table>\n",
              "</div>\n",
              "    <div class=\"colab-df-buttons\">\n",
              "\n",
              "  <div class=\"colab-df-container\">\n",
              "    <button class=\"colab-df-convert\" onclick=\"convertToInteractive('df-fc7f8d8c-4a9b-4aa4-8537-613ffa13f546')\"\n",
              "            title=\"Convert this dataframe to an interactive table.\"\n",
              "            style=\"display:none;\">\n",
              "\n",
              "  <svg xmlns=\"http://www.w3.org/2000/svg\" height=\"24px\" viewBox=\"0 -960 960 960\">\n",
              "    <path d=\"M120-120v-720h720v720H120Zm60-500h600v-160H180v160Zm220 220h160v-160H400v160Zm0 220h160v-160H400v160ZM180-400h160v-160H180v160Zm440 0h160v-160H620v160ZM180-180h160v-160H180v160Zm440 0h160v-160H620v160Z\"/>\n",
              "  </svg>\n",
              "    </button>\n",
              "\n",
              "  <style>\n",
              "    .colab-df-container {\n",
              "      display:flex;\n",
              "      gap: 12px;\n",
              "    }\n",
              "\n",
              "    .colab-df-convert {\n",
              "      background-color: #E8F0FE;\n",
              "      border: none;\n",
              "      border-radius: 50%;\n",
              "      cursor: pointer;\n",
              "      display: none;\n",
              "      fill: #1967D2;\n",
              "      height: 32px;\n",
              "      padding: 0 0 0 0;\n",
              "      width: 32px;\n",
              "    }\n",
              "\n",
              "    .colab-df-convert:hover {\n",
              "      background-color: #E2EBFA;\n",
              "      box-shadow: 0px 1px 2px rgba(60, 64, 67, 0.3), 0px 1px 3px 1px rgba(60, 64, 67, 0.15);\n",
              "      fill: #174EA6;\n",
              "    }\n",
              "\n",
              "    .colab-df-buttons div {\n",
              "      margin-bottom: 4px;\n",
              "    }\n",
              "\n",
              "    [theme=dark] .colab-df-convert {\n",
              "      background-color: #3B4455;\n",
              "      fill: #D2E3FC;\n",
              "    }\n",
              "\n",
              "    [theme=dark] .colab-df-convert:hover {\n",
              "      background-color: #434B5C;\n",
              "      box-shadow: 0px 1px 3px 1px rgba(0, 0, 0, 0.15);\n",
              "      filter: drop-shadow(0px 1px 2px rgba(0, 0, 0, 0.3));\n",
              "      fill: #FFFFFF;\n",
              "    }\n",
              "  </style>\n",
              "\n",
              "    <script>\n",
              "      const buttonEl =\n",
              "        document.querySelector('#df-fc7f8d8c-4a9b-4aa4-8537-613ffa13f546 button.colab-df-convert');\n",
              "      buttonEl.style.display =\n",
              "        google.colab.kernel.accessAllowed ? 'block' : 'none';\n",
              "\n",
              "      async function convertToInteractive(key) {\n",
              "        const element = document.querySelector('#df-fc7f8d8c-4a9b-4aa4-8537-613ffa13f546');\n",
              "        const dataTable =\n",
              "          await google.colab.kernel.invokeFunction('convertToInteractive',\n",
              "                                                    [key], {});\n",
              "        if (!dataTable) return;\n",
              "\n",
              "        const docLinkHtml = 'Like what you see? Visit the ' +\n",
              "          '<a target=\"_blank\" href=https://colab.research.google.com/notebooks/data_table.ipynb>data table notebook</a>'\n",
              "          + ' to learn more about interactive tables.';\n",
              "        element.innerHTML = '';\n",
              "        dataTable['output_type'] = 'display_data';\n",
              "        await google.colab.output.renderOutput(dataTable, element);\n",
              "        const docLink = document.createElement('div');\n",
              "        docLink.innerHTML = docLinkHtml;\n",
              "        element.appendChild(docLink);\n",
              "      }\n",
              "    </script>\n",
              "  </div>\n",
              "\n",
              "\n",
              "<div id=\"df-ec4ca7c7-59e6-40e0-8f5f-ad4fcc60c489\">\n",
              "  <button class=\"colab-df-quickchart\" onclick=\"quickchart('df-ec4ca7c7-59e6-40e0-8f5f-ad4fcc60c489')\"\n",
              "            title=\"Suggest charts\"\n",
              "            style=\"display:none;\">\n",
              "\n",
              "<svg xmlns=\"http://www.w3.org/2000/svg\" height=\"24px\"viewBox=\"0 0 24 24\"\n",
              "     width=\"24px\">\n",
              "    <g>\n",
              "        <path d=\"M19 3H5c-1.1 0-2 .9-2 2v14c0 1.1.9 2 2 2h14c1.1 0 2-.9 2-2V5c0-1.1-.9-2-2-2zM9 17H7v-7h2v7zm4 0h-2V7h2v10zm4 0h-2v-4h2v4z\"/>\n",
              "    </g>\n",
              "</svg>\n",
              "  </button>\n",
              "\n",
              "<style>\n",
              "  .colab-df-quickchart {\n",
              "      --bg-color: #E8F0FE;\n",
              "      --fill-color: #1967D2;\n",
              "      --hover-bg-color: #E2EBFA;\n",
              "      --hover-fill-color: #174EA6;\n",
              "      --disabled-fill-color: #AAA;\n",
              "      --disabled-bg-color: #DDD;\n",
              "  }\n",
              "\n",
              "  [theme=dark] .colab-df-quickchart {\n",
              "      --bg-color: #3B4455;\n",
              "      --fill-color: #D2E3FC;\n",
              "      --hover-bg-color: #434B5C;\n",
              "      --hover-fill-color: #FFFFFF;\n",
              "      --disabled-bg-color: #3B4455;\n",
              "      --disabled-fill-color: #666;\n",
              "  }\n",
              "\n",
              "  .colab-df-quickchart {\n",
              "    background-color: var(--bg-color);\n",
              "    border: none;\n",
              "    border-radius: 50%;\n",
              "    cursor: pointer;\n",
              "    display: none;\n",
              "    fill: var(--fill-color);\n",
              "    height: 32px;\n",
              "    padding: 0;\n",
              "    width: 32px;\n",
              "  }\n",
              "\n",
              "  .colab-df-quickchart:hover {\n",
              "    background-color: var(--hover-bg-color);\n",
              "    box-shadow: 0 1px 2px rgba(60, 64, 67, 0.3), 0 1px 3px 1px rgba(60, 64, 67, 0.15);\n",
              "    fill: var(--button-hover-fill-color);\n",
              "  }\n",
              "\n",
              "  .colab-df-quickchart-complete:disabled,\n",
              "  .colab-df-quickchart-complete:disabled:hover {\n",
              "    background-color: var(--disabled-bg-color);\n",
              "    fill: var(--disabled-fill-color);\n",
              "    box-shadow: none;\n",
              "  }\n",
              "\n",
              "  .colab-df-spinner {\n",
              "    border: 2px solid var(--fill-color);\n",
              "    border-color: transparent;\n",
              "    border-bottom-color: var(--fill-color);\n",
              "    animation:\n",
              "      spin 1s steps(1) infinite;\n",
              "  }\n",
              "\n",
              "  @keyframes spin {\n",
              "    0% {\n",
              "      border-color: transparent;\n",
              "      border-bottom-color: var(--fill-color);\n",
              "      border-left-color: var(--fill-color);\n",
              "    }\n",
              "    20% {\n",
              "      border-color: transparent;\n",
              "      border-left-color: var(--fill-color);\n",
              "      border-top-color: var(--fill-color);\n",
              "    }\n",
              "    30% {\n",
              "      border-color: transparent;\n",
              "      border-left-color: var(--fill-color);\n",
              "      border-top-color: var(--fill-color);\n",
              "      border-right-color: var(--fill-color);\n",
              "    }\n",
              "    40% {\n",
              "      border-color: transparent;\n",
              "      border-right-color: var(--fill-color);\n",
              "      border-top-color: var(--fill-color);\n",
              "    }\n",
              "    60% {\n",
              "      border-color: transparent;\n",
              "      border-right-color: var(--fill-color);\n",
              "    }\n",
              "    80% {\n",
              "      border-color: transparent;\n",
              "      border-right-color: var(--fill-color);\n",
              "      border-bottom-color: var(--fill-color);\n",
              "    }\n",
              "    90% {\n",
              "      border-color: transparent;\n",
              "      border-bottom-color: var(--fill-color);\n",
              "    }\n",
              "  }\n",
              "</style>\n",
              "\n",
              "  <script>\n",
              "    async function quickchart(key) {\n",
              "      const quickchartButtonEl =\n",
              "        document.querySelector('#' + key + ' button');\n",
              "      quickchartButtonEl.disabled = true;  // To prevent multiple clicks.\n",
              "      quickchartButtonEl.classList.add('colab-df-spinner');\n",
              "      try {\n",
              "        const charts = await google.colab.kernel.invokeFunction(\n",
              "            'suggestCharts', [key], {});\n",
              "      } catch (error) {\n",
              "        console.error('Error during call to suggestCharts:', error);\n",
              "      }\n",
              "      quickchartButtonEl.classList.remove('colab-df-spinner');\n",
              "      quickchartButtonEl.classList.add('colab-df-quickchart-complete');\n",
              "    }\n",
              "    (() => {\n",
              "      let quickchartButtonEl =\n",
              "        document.querySelector('#df-ec4ca7c7-59e6-40e0-8f5f-ad4fcc60c489 button');\n",
              "      quickchartButtonEl.style.display =\n",
              "        google.colab.kernel.accessAllowed ? 'block' : 'none';\n",
              "    })();\n",
              "  </script>\n",
              "</div>\n",
              "\n",
              "    </div>\n",
              "  </div>\n"
            ]
          },
          "metadata": {},
          "execution_count": 9
        }
      ],
      "source": [
        "train_df = pd.read_csv(panda_path)\n",
        "preprocess(train_df)\n",
        "val_df = pd.read_csv(test_panda_path)\n",
        "preprocess(val_df)\n",
        "labels=list(train_df.columns[1:])\n",
        "print(labels)\n",
        "train_df.head()"
      ]
    },
    {
      "cell_type": "code",
      "execution_count": null,
      "metadata": {
        "colab": {
          "base_uri": "https://localhost:8080/",
          "height": 206
        },
        "id": "uCwCHf0ZYh1N",
        "outputId": "ae8ec4ea-168d-4a0a-b09e-e4adc9cd2b81"
      },
      "outputs": [
        {
          "output_type": "execute_result",
          "data": {
            "text/plain": [
              "              image  MEL   NV  BCC  BKL  UNK\n",
              "0  ISIC_0034524.jpg  0.0  1.0  0.0  0.0  0.0\n",
              "1  ISIC_0034525.jpg  0.0  1.0  0.0  0.0  0.0\n",
              "2  ISIC_0034526.jpg  0.0  0.0  0.0  1.0  0.0\n",
              "3  ISIC_0034527.jpg  0.0  1.0  0.0  0.0  0.0\n",
              "4  ISIC_0034528.jpg  0.0  1.0  0.0  0.0  0.0"
            ],
            "text/html": [
              "\n",
              "  <div id=\"df-dd100b7c-bfa1-47e2-849a-3ada67924d33\" class=\"colab-df-container\">\n",
              "    <div>\n",
              "<style scoped>\n",
              "    .dataframe tbody tr th:only-of-type {\n",
              "        vertical-align: middle;\n",
              "    }\n",
              "\n",
              "    .dataframe tbody tr th {\n",
              "        vertical-align: top;\n",
              "    }\n",
              "\n",
              "    .dataframe thead th {\n",
              "        text-align: right;\n",
              "    }\n",
              "</style>\n",
              "<table border=\"1\" class=\"dataframe\">\n",
              "  <thead>\n",
              "    <tr style=\"text-align: right;\">\n",
              "      <th></th>\n",
              "      <th>image</th>\n",
              "      <th>MEL</th>\n",
              "      <th>NV</th>\n",
              "      <th>BCC</th>\n",
              "      <th>BKL</th>\n",
              "      <th>UNK</th>\n",
              "    </tr>\n",
              "  </thead>\n",
              "  <tbody>\n",
              "    <tr>\n",
              "      <th>0</th>\n",
              "      <td>ISIC_0034524.jpg</td>\n",
              "      <td>0.0</td>\n",
              "      <td>1.0</td>\n",
              "      <td>0.0</td>\n",
              "      <td>0.0</td>\n",
              "      <td>0.0</td>\n",
              "    </tr>\n",
              "    <tr>\n",
              "      <th>1</th>\n",
              "      <td>ISIC_0034525.jpg</td>\n",
              "      <td>0.0</td>\n",
              "      <td>1.0</td>\n",
              "      <td>0.0</td>\n",
              "      <td>0.0</td>\n",
              "      <td>0.0</td>\n",
              "    </tr>\n",
              "    <tr>\n",
              "      <th>2</th>\n",
              "      <td>ISIC_0034526.jpg</td>\n",
              "      <td>0.0</td>\n",
              "      <td>0.0</td>\n",
              "      <td>0.0</td>\n",
              "      <td>1.0</td>\n",
              "      <td>0.0</td>\n",
              "    </tr>\n",
              "    <tr>\n",
              "      <th>3</th>\n",
              "      <td>ISIC_0034527.jpg</td>\n",
              "      <td>0.0</td>\n",
              "      <td>1.0</td>\n",
              "      <td>0.0</td>\n",
              "      <td>0.0</td>\n",
              "      <td>0.0</td>\n",
              "    </tr>\n",
              "    <tr>\n",
              "      <th>4</th>\n",
              "      <td>ISIC_0034528.jpg</td>\n",
              "      <td>0.0</td>\n",
              "      <td>1.0</td>\n",
              "      <td>0.0</td>\n",
              "      <td>0.0</td>\n",
              "      <td>0.0</td>\n",
              "    </tr>\n",
              "  </tbody>\n",
              "</table>\n",
              "</div>\n",
              "    <div class=\"colab-df-buttons\">\n",
              "\n",
              "  <div class=\"colab-df-container\">\n",
              "    <button class=\"colab-df-convert\" onclick=\"convertToInteractive('df-dd100b7c-bfa1-47e2-849a-3ada67924d33')\"\n",
              "            title=\"Convert this dataframe to an interactive table.\"\n",
              "            style=\"display:none;\">\n",
              "\n",
              "  <svg xmlns=\"http://www.w3.org/2000/svg\" height=\"24px\" viewBox=\"0 -960 960 960\">\n",
              "    <path d=\"M120-120v-720h720v720H120Zm60-500h600v-160H180v160Zm220 220h160v-160H400v160Zm0 220h160v-160H400v160ZM180-400h160v-160H180v160Zm440 0h160v-160H620v160ZM180-180h160v-160H180v160Zm440 0h160v-160H620v160Z\"/>\n",
              "  </svg>\n",
              "    </button>\n",
              "\n",
              "  <style>\n",
              "    .colab-df-container {\n",
              "      display:flex;\n",
              "      gap: 12px;\n",
              "    }\n",
              "\n",
              "    .colab-df-convert {\n",
              "      background-color: #E8F0FE;\n",
              "      border: none;\n",
              "      border-radius: 50%;\n",
              "      cursor: pointer;\n",
              "      display: none;\n",
              "      fill: #1967D2;\n",
              "      height: 32px;\n",
              "      padding: 0 0 0 0;\n",
              "      width: 32px;\n",
              "    }\n",
              "\n",
              "    .colab-df-convert:hover {\n",
              "      background-color: #E2EBFA;\n",
              "      box-shadow: 0px 1px 2px rgba(60, 64, 67, 0.3), 0px 1px 3px 1px rgba(60, 64, 67, 0.15);\n",
              "      fill: #174EA6;\n",
              "    }\n",
              "\n",
              "    .colab-df-buttons div {\n",
              "      margin-bottom: 4px;\n",
              "    }\n",
              "\n",
              "    [theme=dark] .colab-df-convert {\n",
              "      background-color: #3B4455;\n",
              "      fill: #D2E3FC;\n",
              "    }\n",
              "\n",
              "    [theme=dark] .colab-df-convert:hover {\n",
              "      background-color: #434B5C;\n",
              "      box-shadow: 0px 1px 3px 1px rgba(0, 0, 0, 0.15);\n",
              "      filter: drop-shadow(0px 1px 2px rgba(0, 0, 0, 0.3));\n",
              "      fill: #FFFFFF;\n",
              "    }\n",
              "  </style>\n",
              "\n",
              "    <script>\n",
              "      const buttonEl =\n",
              "        document.querySelector('#df-dd100b7c-bfa1-47e2-849a-3ada67924d33 button.colab-df-convert');\n",
              "      buttonEl.style.display =\n",
              "        google.colab.kernel.accessAllowed ? 'block' : 'none';\n",
              "\n",
              "      async function convertToInteractive(key) {\n",
              "        const element = document.querySelector('#df-dd100b7c-bfa1-47e2-849a-3ada67924d33');\n",
              "        const dataTable =\n",
              "          await google.colab.kernel.invokeFunction('convertToInteractive',\n",
              "                                                    [key], {});\n",
              "        if (!dataTable) return;\n",
              "\n",
              "        const docLinkHtml = 'Like what you see? Visit the ' +\n",
              "          '<a target=\"_blank\" href=https://colab.research.google.com/notebooks/data_table.ipynb>data table notebook</a>'\n",
              "          + ' to learn more about interactive tables.';\n",
              "        element.innerHTML = '';\n",
              "        dataTable['output_type'] = 'display_data';\n",
              "        await google.colab.output.renderOutput(dataTable, element);\n",
              "        const docLink = document.createElement('div');\n",
              "        docLink.innerHTML = docLinkHtml;\n",
              "        element.appendChild(docLink);\n",
              "      }\n",
              "    </script>\n",
              "  </div>\n",
              "\n",
              "\n",
              "<div id=\"df-4fb0959a-2bbb-4f0f-82ff-fd6cd8bfa6e8\">\n",
              "  <button class=\"colab-df-quickchart\" onclick=\"quickchart('df-4fb0959a-2bbb-4f0f-82ff-fd6cd8bfa6e8')\"\n",
              "            title=\"Suggest charts\"\n",
              "            style=\"display:none;\">\n",
              "\n",
              "<svg xmlns=\"http://www.w3.org/2000/svg\" height=\"24px\"viewBox=\"0 0 24 24\"\n",
              "     width=\"24px\">\n",
              "    <g>\n",
              "        <path d=\"M19 3H5c-1.1 0-2 .9-2 2v14c0 1.1.9 2 2 2h14c1.1 0 2-.9 2-2V5c0-1.1-.9-2-2-2zM9 17H7v-7h2v7zm4 0h-2V7h2v10zm4 0h-2v-4h2v4z\"/>\n",
              "    </g>\n",
              "</svg>\n",
              "  </button>\n",
              "\n",
              "<style>\n",
              "  .colab-df-quickchart {\n",
              "      --bg-color: #E8F0FE;\n",
              "      --fill-color: #1967D2;\n",
              "      --hover-bg-color: #E2EBFA;\n",
              "      --hover-fill-color: #174EA6;\n",
              "      --disabled-fill-color: #AAA;\n",
              "      --disabled-bg-color: #DDD;\n",
              "  }\n",
              "\n",
              "  [theme=dark] .colab-df-quickchart {\n",
              "      --bg-color: #3B4455;\n",
              "      --fill-color: #D2E3FC;\n",
              "      --hover-bg-color: #434B5C;\n",
              "      --hover-fill-color: #FFFFFF;\n",
              "      --disabled-bg-color: #3B4455;\n",
              "      --disabled-fill-color: #666;\n",
              "  }\n",
              "\n",
              "  .colab-df-quickchart {\n",
              "    background-color: var(--bg-color);\n",
              "    border: none;\n",
              "    border-radius: 50%;\n",
              "    cursor: pointer;\n",
              "    display: none;\n",
              "    fill: var(--fill-color);\n",
              "    height: 32px;\n",
              "    padding: 0;\n",
              "    width: 32px;\n",
              "  }\n",
              "\n",
              "  .colab-df-quickchart:hover {\n",
              "    background-color: var(--hover-bg-color);\n",
              "    box-shadow: 0 1px 2px rgba(60, 64, 67, 0.3), 0 1px 3px 1px rgba(60, 64, 67, 0.15);\n",
              "    fill: var(--button-hover-fill-color);\n",
              "  }\n",
              "\n",
              "  .colab-df-quickchart-complete:disabled,\n",
              "  .colab-df-quickchart-complete:disabled:hover {\n",
              "    background-color: var(--disabled-bg-color);\n",
              "    fill: var(--disabled-fill-color);\n",
              "    box-shadow: none;\n",
              "  }\n",
              "\n",
              "  .colab-df-spinner {\n",
              "    border: 2px solid var(--fill-color);\n",
              "    border-color: transparent;\n",
              "    border-bottom-color: var(--fill-color);\n",
              "    animation:\n",
              "      spin 1s steps(1) infinite;\n",
              "  }\n",
              "\n",
              "  @keyframes spin {\n",
              "    0% {\n",
              "      border-color: transparent;\n",
              "      border-bottom-color: var(--fill-color);\n",
              "      border-left-color: var(--fill-color);\n",
              "    }\n",
              "    20% {\n",
              "      border-color: transparent;\n",
              "      border-left-color: var(--fill-color);\n",
              "      border-top-color: var(--fill-color);\n",
              "    }\n",
              "    30% {\n",
              "      border-color: transparent;\n",
              "      border-left-color: var(--fill-color);\n",
              "      border-top-color: var(--fill-color);\n",
              "      border-right-color: var(--fill-color);\n",
              "    }\n",
              "    40% {\n",
              "      border-color: transparent;\n",
              "      border-right-color: var(--fill-color);\n",
              "      border-top-color: var(--fill-color);\n",
              "    }\n",
              "    60% {\n",
              "      border-color: transparent;\n",
              "      border-right-color: var(--fill-color);\n",
              "    }\n",
              "    80% {\n",
              "      border-color: transparent;\n",
              "      border-right-color: var(--fill-color);\n",
              "      border-bottom-color: var(--fill-color);\n",
              "    }\n",
              "    90% {\n",
              "      border-color: transparent;\n",
              "      border-bottom-color: var(--fill-color);\n",
              "    }\n",
              "  }\n",
              "</style>\n",
              "\n",
              "  <script>\n",
              "    async function quickchart(key) {\n",
              "      const quickchartButtonEl =\n",
              "        document.querySelector('#' + key + ' button');\n",
              "      quickchartButtonEl.disabled = true;  // To prevent multiple clicks.\n",
              "      quickchartButtonEl.classList.add('colab-df-spinner');\n",
              "      try {\n",
              "        const charts = await google.colab.kernel.invokeFunction(\n",
              "            'suggestCharts', [key], {});\n",
              "      } catch (error) {\n",
              "        console.error('Error during call to suggestCharts:', error);\n",
              "      }\n",
              "      quickchartButtonEl.classList.remove('colab-df-spinner');\n",
              "      quickchartButtonEl.classList.add('colab-df-quickchart-complete');\n",
              "    }\n",
              "    (() => {\n",
              "      let quickchartButtonEl =\n",
              "        document.querySelector('#df-4fb0959a-2bbb-4f0f-82ff-fd6cd8bfa6e8 button');\n",
              "      quickchartButtonEl.style.display =\n",
              "        google.colab.kernel.accessAllowed ? 'block' : 'none';\n",
              "    })();\n",
              "  </script>\n",
              "</div>\n",
              "\n",
              "    </div>\n",
              "  </div>\n"
            ]
          },
          "metadata": {},
          "execution_count": 10
        }
      ],
      "source": [
        "val_df.head()"
      ]
    },
    {
      "cell_type": "code",
      "execution_count": 10,
      "metadata": {
        "id": "s_-wtnKeYh1N"
      },
      "outputs": [],
      "source": [
        "def get_train_gen(df, img_path=IMAGE_DIR, target_size=(224, 224)):\n",
        "  data_gen = ImageDataGenerator(preprocessing_function=preprocess_input,\n",
        "                                horizontal_flip=True,\n",
        "                                width_shift_range=0.2,\n",
        "                                height_shift_range=0.2)\n",
        "  return data_gen.flow_from_dataframe(dataframe=df, directory=img_path,\n",
        "                                      x_col='image', y_col=list(df.columns)[1:],\n",
        "                                      batch_size=128, shuffle=True, class_mode='raw',\n",
        "                                      target_size=target_size)\n",
        "\n",
        "def get_val_gen(val_df, test_img_path=TEST_IMAGE_DIR, target_size=(224, 224)):\n",
        "  data_gen = ImageDataGenerator(preprocessing_function=preprocess_input)\n",
        "  val = data_gen.flow_from_dataframe(dataframe=val_df, directory=TEST_IMAGE_DIR,\n",
        "                                      x_col='image', y_col=list(val_df.columns)[1:],\n",
        "                                      batch_size=128, shuffle=True, class_mode='raw',\n",
        "                                      target_size=target_size)\n",
        "  return val"
      ]
    },
    {
      "cell_type": "code",
      "execution_count": 11,
      "metadata": {
        "colab": {
          "base_uri": "https://localhost:8080/"
        },
        "id": "8i39MYNIYh1N",
        "outputId": "e99ff288-a77c-4c34-b560-0d98f51b60c9"
      },
      "outputs": [
        {
          "output_type": "stream",
          "name": "stdout",
          "text": [
            "Found 11987 validated image filenames.\n",
            "Found 1512 validated image filenames.\n"
          ]
        }
      ],
      "source": [
        "train_generator = get_train_gen(train_df)\n",
        "valid_generator = get_val_gen(val_df)"
      ]
    },
    {
      "cell_type": "code",
      "execution_count": 12,
      "metadata": {
        "id": "ElrnOm0BAzr0"
      },
      "outputs": [],
      "source": [
        "#sequential API\n",
        "def vgg_model(input_shape=(224, 224, 3)):\n",
        "  model = Sequential()\n",
        "  model.add(VGG16(include_top=False, weights='imagenet', input_shape=input_shape))\n",
        "\n",
        "  model.add(GlobalAveragePooling2D())\n",
        "  model.add(Dense(512, activation='relu'))\n",
        "  model.add(Dropout(0.25))\n",
        "\n",
        "  model.add(Dense(1024))\n",
        "  model.add(BatchNormalization())\n",
        "  model.add(Activation('relu'))\n",
        "  model.add(Dropout(0.2))\n",
        "\n",
        "  model.add(Dense(5, activation='sigmoid'))\n",
        "  model.compile(optimizer=Adam(learning_rate=1e-4), loss='categorical_crossentropy', metrics=['accuracy'])\n",
        "  print('Model has compiled')\n",
        "  return model"
      ]
    },
    {
      "cell_type": "code",
      "execution_count": null,
      "metadata": {
        "colab": {
          "base_uri": "https://localhost:8080/"
        },
        "id": "8ikxsK14XsmH",
        "outputId": "779669e5-6fc8-41ad-860d-d2d50fd7c32f"
      },
      "outputs": [
        {
          "output_type": "stream",
          "name": "stdout",
          "text": [
            "Downloading data from https://storage.googleapis.com/tensorflow/keras-applications/vgg16/vgg16_weights_tf_dim_ordering_tf_kernels_notop.h5\n",
            "58889256/58889256 [==============================] - 0s 0us/step\n",
            "Model has compiled\n"
          ]
        }
      ],
      "source": [
        "vgg16_model = vgg_model(input_shape=(224, 224, 3))"
      ]
    },
    {
      "cell_type": "code",
      "execution_count": null,
      "metadata": {
        "colab": {
          "base_uri": "https://localhost:8080/"
        },
        "id": "x4vcV4ZqX0XV",
        "outputId": "1bb66e80-8434-446c-9467-572d3a0fe4a5"
      },
      "outputs": [
        {
          "output_type": "stream",
          "name": "stdout",
          "text": [
            "Model: \"sequential\"\n",
            "_________________________________________________________________\n",
            " Layer (type)                Output Shape              Param #   \n",
            "=================================================================\n",
            " vgg16 (Functional)          (None, 7, 7, 512)         14714688  \n",
            "                                                                 \n",
            " global_average_pooling2d (  (None, 512)               0         \n",
            " GlobalAveragePooling2D)                                         \n",
            "                                                                 \n",
            " dense (Dense)               (None, 512)               262656    \n",
            "                                                                 \n",
            " dropout (Dropout)           (None, 512)               0         \n",
            "                                                                 \n",
            " dense_1 (Dense)             (None, 1024)              525312    \n",
            "                                                                 \n",
            " batch_normalization (Batch  (None, 1024)              4096      \n",
            " Normalization)                                                  \n",
            "                                                                 \n",
            " activation (Activation)     (None, 1024)              0         \n",
            "                                                                 \n",
            " dropout_1 (Dropout)         (None, 1024)              0         \n",
            "                                                                 \n",
            " dense_2 (Dense)             (None, 5)                 5125      \n",
            "                                                                 \n",
            "=================================================================\n",
            "Total params: 15511877 (59.17 MB)\n",
            "Trainable params: 15509829 (59.17 MB)\n",
            "Non-trainable params: 2048 (8.00 KB)\n",
            "_________________________________________________________________\n"
          ]
        }
      ],
      "source": [
        "vgg16_model.summary()"
      ]
    },
    {
      "cell_type": "code",
      "execution_count": null,
      "metadata": {
        "colab": {
          "base_uri": "https://localhost:8080/"
        },
        "id": "6XN50Esjc4Gx",
        "outputId": "31703083-9999-4cbd-cf0b-5596eea67638"
      },
      "outputs": [
        {
          "output_type": "stream",
          "name": "stdout",
          "text": [
            "Epoch 1/30\n",
            "94/94 [==============================] - 824s 8s/step - loss: 1.4345 - accuracy: 0.4048 - val_loss: 1.2984 - val_accuracy: 0.5529\n",
            "Epoch 2/30\n",
            "94/94 [==============================] - 384s 4s/step - loss: 1.1933 - accuracy: 0.5116 - val_loss: 0.9177 - val_accuracy: 0.6078\n",
            "Epoch 3/30\n",
            "94/94 [==============================] - 374s 4s/step - loss: 1.0869 - accuracy: 0.5641 - val_loss: 0.7633 - val_accuracy: 0.7474\n",
            "Epoch 4/30\n",
            "94/94 [==============================] - 358s 4s/step - loss: 0.9907 - accuracy: 0.6067 - val_loss: 0.7740 - val_accuracy: 0.7097\n",
            "Epoch 5/30\n",
            "94/94 [==============================] - 345s 4s/step - loss: 0.9177 - accuracy: 0.6394 - val_loss: 0.7250 - val_accuracy: 0.7235\n",
            "Epoch 6/30\n",
            "94/94 [==============================] - 331s 4s/step - loss: 0.8534 - accuracy: 0.6638 - val_loss: 0.7596 - val_accuracy: 0.7196\n",
            "Epoch 7/30\n",
            "94/94 [==============================] - 325s 3s/step - loss: 0.8185 - accuracy: 0.6811 - val_loss: 0.6660 - val_accuracy: 0.7553\n",
            "Epoch 8/30\n",
            "94/94 [==============================] - 327s 3s/step - loss: 0.7573 - accuracy: 0.7090 - val_loss: 0.7159 - val_accuracy: 0.7421\n",
            "Epoch 9/30\n",
            "94/94 [==============================] - 322s 3s/step - loss: 0.6978 - accuracy: 0.7349 - val_loss: 0.6803 - val_accuracy: 0.7480\n",
            "Epoch 10/30\n",
            "94/94 [==============================] - 330s 4s/step - loss: 0.6394 - accuracy: 0.7526 - val_loss: 0.5942 - val_accuracy: 0.7970\n",
            "Epoch 11/30\n",
            "94/94 [==============================] - 321s 3s/step - loss: 0.6026 - accuracy: 0.7674 - val_loss: 0.9132 - val_accuracy: 0.6878\n",
            "Epoch 12/30\n",
            "94/94 [==============================] - 320s 3s/step - loss: 0.5252 - accuracy: 0.8020 - val_loss: 0.7200 - val_accuracy: 0.7533\n",
            "Epoch 13/30\n",
            "94/94 [==============================] - 318s 3s/step - loss: 0.4779 - accuracy: 0.8181 - val_loss: 0.8926 - val_accuracy: 0.6925\n",
            "Epoch 14/30\n",
            "94/94 [==============================] - 319s 3s/step - loss: 0.4306 - accuracy: 0.8365 - val_loss: 0.7754 - val_accuracy: 0.7712\n",
            "Epoch 15/30\n",
            "94/94 [==============================] - 315s 3s/step - loss: 0.3717 - accuracy: 0.8567 - val_loss: 0.7547 - val_accuracy: 0.7566\n",
            "Epoch 16/30\n",
            "94/94 [==============================] - 317s 3s/step - loss: 0.3144 - accuracy: 0.8844 - val_loss: 1.2242 - val_accuracy: 0.6442\n",
            "Epoch 17/30\n",
            "94/94 [==============================] - 314s 3s/step - loss: 0.2847 - accuracy: 0.8941 - val_loss: 1.2861 - val_accuracy: 0.6971\n",
            "Epoch 18/30\n",
            "94/94 [==============================] - 316s 3s/step - loss: 0.2527 - accuracy: 0.9090 - val_loss: 0.7827 - val_accuracy: 0.7745\n",
            "Epoch 19/30\n",
            "94/94 [==============================] - 314s 3s/step - loss: 0.2039 - accuracy: 0.9256 - val_loss: 0.9560 - val_accuracy: 0.7533\n",
            "Epoch 20/30\n",
            "94/94 [==============================] - 314s 3s/step - loss: 0.1841 - accuracy: 0.9338 - val_loss: 1.0170 - val_accuracy: 0.7288\n",
            "Epoch 21/30\n",
            "94/94 [==============================] - 312s 3s/step - loss: 0.1702 - accuracy: 0.9389 - val_loss: 1.3513 - val_accuracy: 0.7030\n",
            "Epoch 22/30\n",
            "94/94 [==============================] - 316s 3s/step - loss: 0.1611 - accuracy: 0.9398 - val_loss: 1.1229 - val_accuracy: 0.7493\n",
            "Epoch 23/30\n",
            "94/94 [==============================] - 310s 3s/step - loss: 0.1360 - accuracy: 0.9495 - val_loss: 1.1505 - val_accuracy: 0.7599\n",
            "Epoch 24/30\n",
            "94/94 [==============================] - 317s 3s/step - loss: 0.1207 - accuracy: 0.9577 - val_loss: 1.4075 - val_accuracy: 0.7103\n",
            "Epoch 25/30\n",
            "94/94 [==============================] - 309s 3s/step - loss: 0.1380 - accuracy: 0.9518 - val_loss: 1.0965 - val_accuracy: 0.7507\n",
            "Epoch 26/30\n",
            "94/94 [==============================] - 314s 3s/step - loss: 0.1046 - accuracy: 0.9633 - val_loss: 1.5529 - val_accuracy: 0.6832\n",
            "Epoch 27/30\n",
            "94/94 [==============================] - 309s 3s/step - loss: 0.0883 - accuracy: 0.9711 - val_loss: 1.6139 - val_accuracy: 0.7176\n",
            "Epoch 28/30\n",
            "94/94 [==============================] - 309s 3s/step - loss: 0.0994 - accuracy: 0.9645 - val_loss: 1.3269 - val_accuracy: 0.7308\n",
            "Epoch 29/30\n",
            "94/94 [==============================] - 309s 3s/step - loss: 0.0847 - accuracy: 0.9706 - val_loss: 1.3519 - val_accuracy: 0.7282\n",
            "Epoch 30/30\n",
            "94/94 [==============================] - 307s 3s/step - loss: 0.0900 - accuracy: 0.9697 - val_loss: 1.3225 - val_accuracy: 0.7361\n"
          ]
        }
      ],
      "source": [
        "STEP_SIZE_TRAIN = (train_generator.n // train_generator.batch_size) + (train_generator.n % train_generator.batch_size > 0)\n",
        "STEP_SIZE_VALID = (valid_generator.n // valid_generator.batch_size) + (valid_generator.n % valid_generator.batch_size > 0)\n",
        "history = vgg16_model.fit(train_generator, validation_data=valid_generator, epochs=30)"
      ]
    },
    {
      "cell_type": "code",
      "execution_count": null,
      "metadata": {
        "colab": {
          "base_uri": "https://localhost:8080/"
        },
        "id": "0L2mEPjmkdlx",
        "outputId": "ea6f7c43-d6ca-4165-dc97-cac4dbe114e9"
      },
      "outputs": [
        {
          "output_type": "stream",
          "name": "stderr",
          "text": [
            "/usr/local/lib/python3.10/dist-packages/keras/src/engine/training.py:3103: UserWarning: You are saving your model as an HDF5 file via `model.save()`. This file format is considered legacy. We recommend using instead the native Keras format, e.g. `model.save('my_model.keras')`.\n",
            "  saving_api.save_model(\n"
          ]
        }
      ],
      "source": [
        "vgg16_model.save('/content/drive/MyDrive/dataset/vgg16_model_test.h5')"
      ]
    },
    {
      "cell_type": "code",
      "source": [
        "import numpy as np\n",
        "import matplotlib.pyplot as plt\n",
        "from sklearn.model_selection import learning_curve"
      ],
      "metadata": {
        "id": "fJIZj_ssNUm7"
      },
      "execution_count": null,
      "outputs": []
    },
    {
      "cell_type": "code",
      "execution_count": null,
      "metadata": {
        "colab": {
          "base_uri": "https://localhost:8080/",
          "height": 472
        },
        "id": "Pz91BM4H2N2Q",
        "outputId": "563fcc13-c775-49f8-f4a1-ebf38ed5027e"
      },
      "outputs": [
        {
          "output_type": "display_data",
          "data": {
            "text/plain": [
              "<Figure size 640x480 with 1 Axes>"
            ],
            "image/png": "[encoded data removed]"
          },
          "metadata": {}
        }
      ],
      "source": [
        "# Plot training & validation accuracy\n",
        "plt.plot(history.history['accuracy'], label='Training accuracy')\n",
        "plt.plot(history.history['val_accuracy'], label='Validation accuracy')\n",
        "plt.title('Model accuracy')\n",
        "plt.ylabel('Accuracy')\n",
        "plt.xlabel('Epoch')\n",
        "plt.legend(loc='upper left')\n",
        "plt.grid(True)\n",
        "plt.show()"
      ]
    },
    {
      "cell_type": "code",
      "execution_count": 15,
      "metadata": {
        "id": "_-B8kmPvYh1O"
      },
      "outputs": [],
      "source": [
        "#copied from Coursera util package\n",
        "from keras.preprocessing import image\n",
        "from sklearn.metrics import roc_auc_score, roc_curve\n",
        "from tensorflow.compat.v1.logging import INFO, set_verbosity\n",
        "import cv2\n",
        "\n",
        "def get_roc_curve(labels, predicted_vals, generator):\n",
        "    auc_roc_vals = []\n",
        "    for i in range(len(labels)):\n",
        "        try:\n",
        "            gt = generator.labels[:, i]\n",
        "            pred = predicted_vals[:, i]\n",
        "            auc_roc = roc_auc_score(gt, pred)\n",
        "            auc_roc_vals.append(auc_roc)\n",
        "            fpr_rf, tpr_rf, _ = roc_curve(gt, pred)\n",
        "            plt.figure(1, figsize=(10, 10))\n",
        "            plt.plot([0, 1], [0, 1], 'k--')\n",
        "            plt.plot(fpr_rf, tpr_rf,\n",
        "                     label=labels[i] + \" (\" + str(round(auc_roc, 3)) + \")\")\n",
        "            plt.xlabel('False positive rate')\n",
        "            plt.ylabel('True positive rate')\n",
        "            plt.title('ROC curve')\n",
        "            plt.legend(loc='best')\n",
        "        except:\n",
        "            print(\n",
        "                f\"Error in generating ROC curve for {labels[i]}. \"\n",
        "                f\"Dataset lacks enough examples.\"\n",
        "            )\n",
        "    plt.show()\n",
        "    return auc_roc_vals"
      ]
    },
    {
      "cell_type": "code",
      "execution_count": null,
      "metadata": {
        "colab": {
          "base_uri": "https://localhost:8080/"
        },
        "id": "7dsWgPQuYh1O",
        "outputId": "3fb604fd-c91d-4e72-bf21-183b89ed58fd"
      },
      "outputs": [
        {
          "output_type": "stream",
          "name": "stderr",
          "text": [
            "<ipython-input-27-519d4d513f73>:1: UserWarning: `Model.predict_generator` is deprecated and will be removed in a future version. Please use `Model.predict`, which supports generators.\n",
            "  preds = vgg16_model.predict_generator(valid_generator)\n"
          ]
        }
      ],
      "source": [
        "preds = vgg16_model.predict_generator(valid_generator)"
      ]
    },
    {
      "cell_type": "code",
      "execution_count": null,
      "metadata": {
        "colab": {
          "base_uri": "https://localhost:8080/"
        },
        "id": "UY6wQ8EMYh1O",
        "outputId": "c08c1294-527e-4eed-e11a-c482949b547c"
      },
      "outputs": [
        {
          "output_type": "stream",
          "name": "stdout",
          "text": [
            "Error in generating ROC curve for MEL. Dataset lacks enough examples.\n",
            "Error in generating ROC curve for NV. Dataset lacks enough examples.\n",
            "Error in generating ROC curve for BCC. Dataset lacks enough examples.\n",
            "Error in generating ROC curve for BKL. Dataset lacks enough examples.\n",
            "Error in generating ROC curve for UNK. Dataset lacks enough examples.\n"
          ]
        }
      ],
      "source": [
        "import matplotlib.pyplot as plt\n",
        "auc_rocs = get_roc_curve(labels, preds, valid_generator)"
      ]
    },
    {
      "cell_type": "code",
      "execution_count": null,
      "metadata": {
        "id": "lMouchz-kwkv"
      },
      "outputs": [],
      "source": [
        "y_true, y_pred = [], []\n",
        "for pred, arr in zip(preds, valid_generator.labels):\n",
        "    y_true.append(np.argmax(arr))\n",
        "    y_pred.append(np.argmax(pred))\n",
        "y_true = np.array(y_true)\n",
        "y_pred = np.array(y_pred)\n",
        "print(\"y_true:\", y_true)\n",
        "print(\"y_pred:\", y_pred)"
      ]
    },
    {
      "cell_type": "code",
      "execution_count": null,
      "metadata": {
        "id": "NIJhAA1_Yh1P"
      },
      "outputs": [],
      "source": [
        "def plot_confusion_matrix(cm,\n",
        "                          target_names,\n",
        "                          title='Confusion matrix',\n",
        "                          cmap=None,\n",
        "                          normalize=True):\n",
        "\n",
        "\n",
        "    import matplotlib.pyplot as plt\n",
        "    import numpy as np\n",
        "    import itertools\n",
        "\n",
        "    accuracy = np.trace(cm) / float(np.sum(cm))\n",
        "    misclass = 1 - accuracy\n",
        "\n",
        "    if cmap is None:\n",
        "        cmap = plt.get_cmap('Blues')\n",
        "\n",
        "    plt.figure(figsize=(8, 6))\n",
        "    plt.imshow(cm, interpolation='nearest', cmap=cmap)\n",
        "    plt.title(title)\n",
        "    plt.colorbar()\n",
        "\n",
        "    if target_names is not None:\n",
        "        tick_marks = np.arange(len(target_names))\n",
        "        plt.xticks(tick_marks, target_names, rotation=45)\n",
        "        plt.yticks(tick_marks, target_names)\n",
        "\n",
        "    if normalize:\n",
        "        cm = cm.astype('float') / cm.sum(axis=1)[:, np.newaxis]\n",
        "\n",
        "\n",
        "    thresh = cm.max() / 1.5 if normalize else cm.max() / 2\n",
        "    for i, j in itertools.product(range(cm.shape[0]), range(cm.shape[1])):\n",
        "        if normalize:\n",
        "            plt.text(j, i, \"{:0.4f}\".format(cm[i, j]),\n",
        "                     horizontalalignment=\"center\",\n",
        "                     color=\"white\" if cm[i, j] > thresh else \"black\")\n",
        "        else:\n",
        "            plt.text(j, i, \"{:,}\".format(cm[i, j]),\n",
        "                     horizontalalignment=\"center\",\n",
        "                     color=\"white\" if cm[i, j] > thresh else \"black\")\n",
        "\n",
        "\n",
        "    plt.tight_layout()\n",
        "    plt.ylabel('True label')\n",
        "    plt.xlabel('Predicted label\\naccuracy={:0.4f}; misclass={:0.4f}'.format(accuracy, misclass))\n",
        "    plt.show()"
      ]
    },
    {
      "cell_type": "code",
      "execution_count": 23,
      "metadata": {
        "id": "MQW8A4RYk1u6"
      },
      "outputs": [],
      "source": [
        "from sklearn.metrics import classification_report"
      ]
    },
    {
      "cell_type": "code",
      "execution_count": null,
      "metadata": {
        "id": "rQBRRn7qlDhW"
      },
      "outputs": [],
      "source": [
        "class_labels = list(val_df.columns[1:])  # adjust the index if needed\n",
        "report = classification_report(y_true, y_pred, target_names=class_labels)"
      ]
    },
    {
      "cell_type": "code",
      "execution_count": null,
      "metadata": {
        "colab": {
          "base_uri": "https://localhost:8080/"
        },
        "id": "v508UJkHlFx9",
        "outputId": "0293d394-f7bc-410f-e547-ce633f7f36cd"
      },
      "outputs": [
        {
          "output_type": "stream",
          "name": "stdout",
          "text": [
            "              precision    recall  f1-score   support\n",
            "\n",
            "         MEL       0.11      0.18      0.14       171\n",
            "          NV       0.62      0.55      0.59       909\n",
            "         BCC       0.07      0.05      0.06        93\n",
            "         BKL       0.15      0.17      0.16       217\n",
            "         UNK       0.07      0.07      0.07       122\n",
            "\n",
            "    accuracy                           0.39      1512\n",
            "   macro avg       0.21      0.20      0.20      1512\n",
            "weighted avg       0.42      0.39      0.40      1512\n",
            "\n"
          ]
        }
      ],
      "source": [
        "print(report)"
      ]
    },
    {
      "cell_type": "code",
      "source": [
        "vgg16_model_2 = vgg_model(input_shape=(224, 224, 3))"
      ],
      "metadata": {
        "colab": {
          "base_uri": "https://localhost:8080/"
        },
        "id": "wbVJpPrq4OqV",
        "outputId": "d23dec88-3cb0-4639-d4f2-7c2165676902"
      },
      "execution_count": 13,
      "outputs": [
        {
          "output_type": "stream",
          "name": "stdout",
          "text": [
            "Downloading data from https://storage.googleapis.com/tensorflow/keras-applications/vgg16/vgg16_weights_tf_dim_ordering_tf_kernels_notop.h5\n",
            "58889256/58889256 [==============================] - 2s 0us/step\n",
            "Model has compiled\n"
          ]
        }
      ]
    },
    {
      "cell_type": "code",
      "source": [
        "history = vgg16_model_2.fit(train_generator, validation_data=valid_generator, epochs=10)"
      ],
      "metadata": {
        "colab": {
          "base_uri": "https://localhost:8080/"
        },
        "id": "DAJbfHXR3jVU",
        "outputId": "8ab1f42f-cc1c-45fb-ba76-05d987dc29ad"
      },
      "execution_count": 14,
      "outputs": [
        {
          "output_type": "stream",
          "name": "stdout",
          "text": [
            "Epoch 1/10\n",
            "94/94 [==============================] - 1216s 13s/step - loss: 1.4005 - accuracy: 0.4230 - val_loss: 1.2461 - val_accuracy: 0.5324\n",
            "Epoch 2/10\n",
            "94/94 [==============================] - 396s 4s/step - loss: 1.1609 - accuracy: 0.5275 - val_loss: 0.8517 - val_accuracy: 0.6627\n",
            "Epoch 3/10\n",
            "94/94 [==============================] - 415s 4s/step - loss: 1.0495 - accuracy: 0.5817 - val_loss: 0.7093 - val_accuracy: 0.7348\n",
            "Epoch 4/10\n",
            "94/94 [==============================] - 388s 4s/step - loss: 0.9725 - accuracy: 0.6153 - val_loss: 0.6746 - val_accuracy: 0.7454\n",
            "Epoch 5/10\n",
            "94/94 [==============================] - 382s 4s/step - loss: 0.9015 - accuracy: 0.6485 - val_loss: 0.6432 - val_accuracy: 0.7685\n",
            "Epoch 6/10\n",
            "94/94 [==============================] - 378s 4s/step - loss: 0.8290 - accuracy: 0.6761 - val_loss: 0.7993 - val_accuracy: 0.6984\n",
            "Epoch 7/10\n",
            "94/94 [==============================] - 365s 4s/step - loss: 0.7714 - accuracy: 0.6983 - val_loss: 0.8603 - val_accuracy: 0.6971\n",
            "Epoch 8/10\n",
            "94/94 [==============================] - 367s 4s/step - loss: 0.7060 - accuracy: 0.7299 - val_loss: 0.8171 - val_accuracy: 0.7024\n",
            "Epoch 9/10\n",
            "94/94 [==============================] - 370s 4s/step - loss: 0.6564 - accuracy: 0.7462 - val_loss: 0.7143 - val_accuracy: 0.7235\n",
            "Epoch 10/10\n",
            "94/94 [==============================] - 387s 4s/step - loss: 0.5969 - accuracy: 0.7748 - val_loss: 0.7450 - val_accuracy: 0.7401\n"
          ]
        }
      ]
    },
    {
      "cell_type": "code",
      "source": [
        "vgg16_model_2.save('/content/drive/MyDrive/dataset/vgg16_model_final.h5')"
      ],
      "metadata": {
        "id": "rVo8Fc-Z3t4V",
        "colab": {
          "base_uri": "https://localhost:8080/"
        },
        "outputId": "4b7111dc-9ba0-470f-d82b-54ac57114ef5"
      },
      "execution_count": 17,
      "outputs": [
        {
          "output_type": "stream",
          "name": "stderr",
          "text": [
            "/usr/local/lib/python3.10/dist-packages/keras/src/engine/training.py:3103: UserWarning: You are saving your model as an HDF5 file via `model.save()`. This file format is considered legacy. We recommend using instead the native Keras format, e.g. `model.save('my_model.keras')`.\n",
            "  saving_api.save_model(\n"
          ]
        }
      ]
    },
    {
      "cell_type": "code",
      "source": [
        "preds = vgg16_model_2.predict_generator(valid_generator)"
      ],
      "metadata": {
        "id": "qqsryNbC3y-K",
        "colab": {
          "base_uri": "https://localhost:8080/"
        },
        "outputId": "7b5592e1-c5df-4ed1-e348-de359d661e0c"
      },
      "execution_count": 18,
      "outputs": [
        {
          "output_type": "stream",
          "name": "stderr",
          "text": [
            "<ipython-input-18-9d01a6a79ea1>:1: UserWarning: `Model.predict_generator` is deprecated and will be removed in a future version. Please use `Model.predict`, which supports generators.\n",
            "  preds = vgg16_model_2.predict_generator(valid_generator)\n"
          ]
        }
      ]
    },
    {
      "cell_type": "code",
      "source": [
        "import matplotlib.pyplot as plt\n",
        "\n",
        "auc_rocs = get_roc_curve(labels, preds, valid_generator)"
      ],
      "metadata": {
        "id": "IErL0J5S304v",
        "colab": {
          "base_uri": "https://localhost:8080/",
          "height": 872
        },
        "outputId": "62cf4e5c-c59e-43c9-d67b-da26aeb4d125"
      },
      "execution_count": 20,
      "outputs": [
        {
          "output_type": "display_data",
          "data": {
            "text/plain": [
              "<Figure size 1000x1000 with 1 Axes>"
            ],
            "image/png": "[encoded data removed]"
          },
          "metadata": {}
        }
      ]
    },
    {
      "cell_type": "code",
      "source": [
        "y_true, y_pred = [], []\n",
        "for pred, arr in zip(preds, valid_generator.labels):\n",
        "    y_true.append(np.argmax(arr))\n",
        "    y_pred.append(np.argmax(pred))\n",
        "y_true = np.array(y_true)\n",
        "y_pred = np.array(y_pred)\n",
        "print(\"y_true:\", y_true)\n",
        "print(\"y_pred:\", y_pred)"
      ],
      "metadata": {
        "colab": {
          "base_uri": "https://localhost:8080/"
        },
        "id": "vPnVme9c6Fp1",
        "outputId": "e78f3f47-bccb-451a-90bb-0e65f74f289c"
      },
      "execution_count": 21,
      "outputs": [
        {
          "output_type": "stream",
          "name": "stdout",
          "text": [
            "y_true: [1 1 3 ... 4 3 2]\n",
            "y_pred: [0 4 3 ... 1 3 1]\n"
          ]
        }
      ]
    },
    {
      "cell_type": "code",
      "source": [
        "class_labels = list(val_df.columns[1:])  # adjust the index if needed\n",
        "\n",
        "report = classification_report(y_true, y_pred, target_names=class_labels)"
      ],
      "metadata": {
        "id": "4InXXXtA33BA"
      },
      "execution_count": 26,
      "outputs": []
    },
    {
      "cell_type": "code",
      "source": [
        "print(report)"
      ],
      "metadata": {
        "colab": {
          "base_uri": "https://localhost:8080/"
        },
        "id": "r-PjuTRC6Ywn",
        "outputId": "8d13a681-7f5e-4f37-f479-35d7698e2880"
      },
      "execution_count": 27,
      "outputs": [
        {
          "output_type": "stream",
          "name": "stdout",
          "text": [
            "              precision    recall  f1-score   support\n",
            "\n",
            "         MEL       0.12      0.11      0.11       171\n",
            "          NV       0.61      0.53      0.57       909\n",
            "         BCC       0.07      0.10      0.08        93\n",
            "         BKL       0.16      0.24      0.19       217\n",
            "         UNK       0.07      0.07      0.07       122\n",
            "\n",
            "    accuracy                           0.38      1512\n",
            "   macro avg       0.21      0.21      0.21      1512\n",
            "weighted avg       0.42      0.38      0.39      1512\n",
            "\n"
          ]
        }
      ]
    }
  ],
  "metadata": {
    "accelerator": "GPU",
    "colab": {
      "provenance": [],
      "gpuType": "V100"
    },
    "kernelspec": {
      "display_name": "Python 3",
      "name": "python3"
    },
    "language_info": {
      "codemirror_mode": {
        "name": "ipython",
        "version": 3
      },
      "file_extension": ".py",
      "mimetype": "text/x-python",
      "name": "python",
      "nbconvert_exporter": "python",
      "pygments_lexer": "ipython3",
      "version": "3.7.6"
    }
  },
  "nbformat": 4,
  "nbformat_minor": 0
}